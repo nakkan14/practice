{
 "cells": [
  {
   "cell_type": "code",
   "execution_count": 14,
   "id": "cd7753af-cc36-4a03-b448-40a664b68f34",
   "metadata": {},
   "outputs": [],
   "source": [
    "import requests, os, time, json\n",
    "import urllib.parse\n",
    "from bs4 import BeautifulSoup\n",
    "import pandas as pd"
   ]
  },
  {
   "cell_type": "code",
   "execution_count": 15,
   "id": "2cb709a9-ea61-4857-a9f5-3c84f033150e",
   "metadata": {},
   "outputs": [],
   "source": [
    "# 初期設定 --- (※1)\n",
    "shodou_url = 'https://64aa5f3c9a139378f1419b5f--tiny-panda-57dd3f.netlify.app/'\n",
    "# ダミーの__file__を定義\n",
    "__file__ = 'dummy_script.py'\n",
    "save_dir = os.path.join(os.path.dirname(__file__), 'images')\n",
    "logfile = 'images.json'"
   ]
  },
  {
   "cell_type": "code",
   "execution_count": 16,
   "id": "c54dd459-3551-46ac-9137-1f2efad1691c",
   "metadata": {},
   "outputs": [],
   "source": [
    "html = requests.get(shodou_url)\n",
    "soup = BeautifulSoup(html.content, \"html.parser\")"
   ]
  },
  {
   "cell_type": "code",
   "execution_count": 17,
   "id": "0fc91b6b-c71c-4e26-a582-b78b235f6a8c",
   "metadata": {},
   "outputs": [],
   "source": [
    "evolution_guide_element = soup.find(id=\"evolution-guide\")"
   ]
  },
  {
   "cell_type": "code",
   "execution_count": 18,
   "id": "01125881-e050-4ee0-b855-7d2338e08168",
   "metadata": {},
   "outputs": [
    {
     "name": "stdout",
     "output_type": "stream",
     "text": [
      "\n",
      "ポケモン進化ガイド\n",
      "\n",
      "ピカチュウの進化\n",
      "ピチューからピカチュウに進化し、友情の絆を深めるとライチュウに進化します。\n",
      "\n",
      "\n",
      "ヒトカゲの進化\n",
      "ヒトカゲはレベル16でリザードンに、さらにレベル36でリザードンに進化します。\n",
      "\n",
      "\n"
     ]
    }
   ],
   "source": [
    "if evolution_guide_element:\n",
    "    evolution_guide_content = evolution_guide_element.text\n",
    "    print(evolution_guide_content)\n",
    "else:\n",
    "    print(\"ID 'evolution-guide'が見つかりませんでした。\")"
   ]
  },
  {
   "cell_type": "code",
   "execution_count": 26,
   "id": "99920c78-6664-4800-bb70-6fa43ad21bed",
   "metadata": {},
   "outputs": [],
   "source": [
    "section_element = soup.find(id='skill-guide')"
   ]
  },
  {
   "cell_type": "code",
   "execution_count": 27,
   "id": "7ce32fbe-ba04-456a-926c-628a7499fce4",
   "metadata": {},
   "outputs": [
    {
     "name": "stdout",
     "output_type": "stream",
     "text": [
      "[]\n",
      "['1', 'たいあたり']\n",
      "['1', 'なきごえ']\n",
      "['5', 'でんきショック']\n",
      "['10', 'でんこうせっか']\n",
      "['13', 'でんげきは']\n",
      "['18', 'どくどく']\n",
      "['21', 'いたみわけ']\n",
      "['26', 'でんじふゆう']\n",
      "['29', '１０まんボルト']\n",
      "['34', 'はねる']\n",
      "['37', 'ひかりのかべ']\n",
      "['42', 'かみなり']\n",
      "['45', 'あまごい']\n",
      "['50', 'かみなりパンチ']\n"
     ]
    }
   ],
   "source": [
    "# すべてのテーブルを取得します\n",
    "tables = soup.find_all('table')\n",
    "\n",
    "# 5番目のテーブルを選択します（インデックスは0から始まることに注意）\n",
    "target_table_index = 3  # 4番目のテーブルを選択\n",
    "\n",
    "# 指定したインデックスのテーブルを取得します\n",
    "if target_table_index < len(tables):\n",
    "    table = tables[target_table_index]\n",
    "\n",
    "    # テーブル内のデータを表示します\n",
    "    for row in table.find_all('tr'):\n",
    "        columns = row.find_all('td')\n",
    "        row_data = [column.get_text(strip=True) for column in columns]\n",
    "        print(row_data)\n",
    "else:\n",
    "    print(f\"{target_table_index + 1}番目のテーブルは存在しません。\")"
   ]
  },
  {
   "cell_type": "code",
   "execution_count": 35,
   "id": "70a1f009-7829-4803-ae17-e2f8dfd1144d",
   "metadata": {},
   "outputs": [
    {
     "name": "stdout",
     "output_type": "stream",
     "text": [
      "[]\n",
      "['ノーマル']\n",
      "['ほのお']\n",
      "['みず']\n",
      "['でんき']\n",
      "['くさ']\n",
      "['こおり']\n",
      "['かくとう']\n",
      "['どく']\n",
      "['じめん']\n",
      "['ひこう']\n",
      "['エスパー']\n",
      "['むし']\n",
      "['いわ']\n",
      "['ゴースト']\n",
      "['ドラゴン']\n",
      "['あく']\n",
      "['はがね']\n",
      "['フェアリー']\n"
     ]
    }
   ],
   "source": [
    "# すべてのテーブルを取得します\n",
    "tables = soup.find_all('table')\n",
    "\n",
    "# 5番目のテーブルを選択します（インデックスは0から始まることに注意）\n",
    "target_table_index = 7  # ８番目のテーブルを選択\n",
    "\n",
    "# 指定したインデックスのテーブルを取得します\n",
    "if target_table_index < len(tables):\n",
    "    table = tables[target_table_index]\n",
    "\n",
    "    # テーブル内のデータを表示します\n",
    "    for row in table.find_all('tr'):\n",
    "        columns = row.find_all('td')\n",
    "        row_data = [column.get_text(strip=True) for column in columns]\n",
    "        print(row_data)\n",
    "else:\n",
    "    print(f\"{target_table_index + 1}番目のテーブルは存在しません。\")"
   ]
  },
  {
   "cell_type": "code",
   "execution_count": 33,
   "id": "f41baecf-4f63-4a76-85e9-c06d8ba1b5ce",
   "metadata": {},
   "outputs": [
    {
     "name": "stdout",
     "output_type": "stream",
     "text": [
      "テーブルの個数: 8\n"
     ]
    }
   ],
   "source": [
    "tables = soup.find_all('table')\n",
    "table_count = len(tables)\n",
    "print(f\"テーブルの個数: {table_count}\")"
   ]
  },
  {
   "cell_type": "code",
   "execution_count": 37,
   "id": "0c15d85d-6566-4ab5-b554-b66bc6484738",
   "metadata": {},
   "outputs": [
    {
     "name": "stdout",
     "output_type": "stream",
     "text": [
      "画像のURL: ./img/sample4.png\n",
      "画像のURL: ./img/sample5.jpeg\n"
     ]
    }
   ],
   "source": [
    "# すべての<img>要素を取得します\n",
    "img_tags = soup.find_all('img')\n",
    "\n",
    "# 各<img>要素から画像のURLを取得して表示します\n",
    "for img_tag in img_tags:\n",
    "    img_url = img_tag.get('src')  # <img>要素のsrc属性から画像のURLを取得します\n",
    "    if img_url:\n",
    "        print(\"画像のURL:\", img_url)\n",
    "    else:\n",
    "        print(\"画像のURLが見つかりませんでした。\")"
   ]
  },
  {
   "cell_type": "code",
   "execution_count": null,
   "id": "417439cc-a6a1-48c8-8ed3-5eae30b9d9f8",
   "metadata": {},
   "outputs": [],
   "source": []
  }
 ],
 "metadata": {
  "kernelspec": {
   "display_name": "Python 3 (ipykernel)",
   "language": "python",
   "name": "python3"
  },
  "language_info": {
   "codemirror_mode": {
    "name": "ipython",
    "version": 3
   },
   "file_extension": ".py",
   "mimetype": "text/x-python",
   "name": "python",
   "nbconvert_exporter": "python",
   "pygments_lexer": "ipython3",
   "version": "3.10.9"
  }
 },
 "nbformat": 4,
 "nbformat_minor": 5
}
